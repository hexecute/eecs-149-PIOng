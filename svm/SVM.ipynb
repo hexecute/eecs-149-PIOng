{
 "metadata": {
  "name": "",
  "signature": "sha256:bbe5bfc0cee66f2e3cf87fd5774d462fbaa4d8dd3837d90acbad51dbc54f5cfc"
 },
 "nbformat": 3,
 "nbformat_minor": 0,
 "worksheets": [
  {
   "cells": [
    {
     "cell_type": "code",
     "collapsed": false,
     "input": [
      "import csv, itertools, pickle\n",
      "import numpy as np, matplotlib.pyplot as plt, scipy.ndimage.interpolation as interp"
     ],
     "language": "python",
     "metadata": {},
     "outputs": [],
     "prompt_number": 1
    },
    {
     "cell_type": "code",
     "collapsed": false,
     "input": [
      "processing_dir = \"../processing/\"\n",
      "list_of_stroke_types = list( itertools.product( [ \"forehand\", \"backhand\" ],\n",
      "                                                [ \"drive\", \"chop\" ] ) )\n",
      "data_points = 5\n",
      "parameters = 10\n",
      "\n",
      "total_samples = 40\n",
      "\n",
      "data = np.ndarray( shape=( total_samples, data_points * ( parameters - 1 ) ) )\n",
      "labels = np.ndarray( total_samples )\n",
      "\n",
      "data_ptr = 0\n",
      "\n",
      "# svm_variable, svm_variable_number = [ \"forehand\", 0 ]\n",
      "svm_variable, svm_variable_number = [ \"drive\", 1 ]\n",
      "\n",
      "for stroke_type_tuple in list_of_stroke_types:\n",
      "    stroke_type = \" \".join( stroke_type_tuple )\n",
      "    \n",
      "    stroke_data = pickle.load( open( processing_dir + stroke_type + \".p\", \"rb\" ) )\n",
      "\n",
      "    stroke_data_new = np.ndarray( shape=( len( stroke_data ), data_points, 10 ) )\n",
      "    stroke_data_new.fill( None )\n",
      "    for i in range( len( stroke_data ) ):\n",
      "        for end in range( 200 ):\n",
      "            if ( np.isnan( stroke_data[ i, end, 0 ] ) ):\n",
      "                break\n",
      "            end += 1\n",
      "        downsampling_ratio = float( data_points )/ ( end - 1 )\n",
      "        for j in range( parameters ):\n",
      "            interp.zoom( stroke_data[ i, : end - 1, j ], downsampling_ratio, stroke_data_new[ i, :, j ])\n",
      "            \n",
      "    data[ data_ptr : data_ptr + 10, : ] = np.reshape( stroke_data_new[ :, :, 1 : ],\n",
      "                                                      ( 10, data_points * ( parameters - 1) ) )\n",
      "    \n",
      "    if ( stroke_type_tuple[ svm_variable_number ] == svm_variable ):\n",
      "        labels[ data_ptr : data_ptr + 10 ] = np.zeros( 10 )\n",
      "    else:\n",
      "        labels[ data_ptr : data_ptr + 10 ] = np.ones( 10 )\n",
      "        \n",
      "    data_ptr += 10"
     ],
     "language": "python",
     "metadata": {},
     "outputs": [],
     "prompt_number": 2
    },
    {
     "cell_type": "code",
     "collapsed": false,
     "input": [
      "def get_classifier( data_in, data_out ):\n",
      "    return [ np.zeros( ( len( data_in[ 0 ] ) ) ) ]\n",
      "\n",
      "def train_classifier( classifier, data_in, data_out ):\n",
      "    for _ in range( 10 ):\n",
      "        accurate = True \n",
      "        for i in range( len( data_out ) ):\n",
      "            prediction = np.dot( data_in[ i ], classifier[ 0 ] ) > 0\n",
      "            if ( data_out[ i ] != prediction ):\n",
      "                sign = 1 if data_out[ i ] > 0 else - 1\n",
      "                classifier[ 0 ] = classifier[ 0 ] + ( data_in[ i ] * sign )\n",
      "                accurate = False\n",
      "        if ( accurate ):\n",
      "            break\n",
      "\n",
      "def score_classifier( classifier, data_in, data_out ):\n",
      "    import random\n",
      "    count = 0\n",
      "    iterations = 0\n",
      "    for i in range( len( data_out ) ):\n",
      "        if ( data_out[ i ] >= 2 ):\n",
      "            continue\n",
      "        iterations += 1\n",
      "        prediction = np.dot( data_in[ i ], classifier[ 0 ] ) > 0\n",
      "        if ( data_out[ i ] == prediction ):\n",
      "            count += 1\n",
      "    return float( count ) / iterations\n",
      "\n",
      "def crossvalidation( n, data, labels ):\n",
      "    num_dim = len( data[ 0 ] )\n",
      "    num_samples = len( labels )\n",
      "    \n",
      "    # Randomize the inputs\n",
      "    rng_god = np.arange( num_samples )\n",
      "    np.random.shuffle( rng_god )\n",
      "    data_shuffled = np.zeros( shape=( num_samples, num_dim ) )\n",
      "    labels_shuffled = np.zeros( shape=( num_samples ) )\n",
      "    for i in range( num_samples ):\n",
      "        data_shuffled[ i ] = data[ rng_god[ i ] ]\n",
      "        labels_shuffled[ i ] = labels[ rng_god[ i ] ]\n",
      "        \n",
      "    # Partition into sets\n",
      "    if ( num_samples % n ):\n",
      "        raise Exception( \"Unequal size subsets (%d into %d).\" % ( num_samples, n ) )\n",
      "    set_size = num_samples / n\n",
      "    data_sets = np.zeros( ( n, set_size, num_dim ) )\n",
      "    labels_sets = np.zeros( ( n, set_size ) )\n",
      "    for i in range( n ):\n",
      "        data_sets[ i ] = data_shuffled[ set_size * i : set_size * ( i+1 ) ]\n",
      "        labels_sets[ i ] = labels_shuffled[ set_size * i : set_size * ( i+1 ) ]\n",
      "\n",
      "    # Train and score\n",
      "    score = 0.0\n",
      "    for i in range( n ):\n",
      "        classifier = get_classifier( data, labels )\n",
      "        data_temp = np.concatenate( ( data_sets[ 0 : i ], data_sets[ i : n-1 ] ), 0 )\n",
      "        data_training = np.zeros( ( set_size * ( n-1 ), num_dim ) )\n",
      "        for j in range(n - 1):\n",
      "            for k in range(set_size):\n",
      "                data_training[ j * set_size + k ] = data_temp[ j ][ k ]\n",
      "        labels_training = np.concatenate( ( labels_sets[ 0 : i ], labels_sets[ i : n - 1 ] ), 0 ).reshape( set_size * (n - 1) )\n",
      "        train_classifier( classifier, data_training, labels_training )\n",
      "        score += score_classifier( classifier, data_sets[ i ], labels_sets[ i ] )\n",
      "    return [ score / float( n ), classifier ]"
     ],
     "language": "python",
     "metadata": {},
     "outputs": [],
     "prompt_number": 3
    },
    {
     "cell_type": "code",
     "collapsed": false,
     "input": [
      "accuracy = 0\n",
      "trials = 50\n",
      "for _ in range( trials ):\n",
      "    accuracy_temp, classifier = crossvalidation( 40, data, labels )\n",
      "    accuracy += accuracy_temp\n",
      "    print( accuracy_temp )\n",
      "print( \"-----------------------\\nFinal accuracy: %f\" % ( accuracy / trials ) )"
     ],
     "language": "python",
     "metadata": {},
     "outputs": [
      {
       "output_type": "stream",
       "stream": "stdout",
       "text": [
        "1.0\n",
        "1.0\n",
        "1.0"
       ]
      },
      {
       "output_type": "stream",
       "stream": "stdout",
       "text": [
        "\n",
        "1.0"
       ]
      },
      {
       "output_type": "stream",
       "stream": "stdout",
       "text": [
        "\n",
        "1.0\n",
        "1.0"
       ]
      },
      {
       "output_type": "stream",
       "stream": "stdout",
       "text": [
        "\n",
        "1.0"
       ]
      },
      {
       "output_type": "stream",
       "stream": "stdout",
       "text": [
        "\n",
        "1.0\n",
        "1.0"
       ]
      },
      {
       "output_type": "stream",
       "stream": "stdout",
       "text": [
        "\n",
        "1.0"
       ]
      },
      {
       "output_type": "stream",
       "stream": "stdout",
       "text": [
        "\n",
        "1.0\n",
        "1.0"
       ]
      },
      {
       "output_type": "stream",
       "stream": "stdout",
       "text": [
        "\n",
        "1.0\n",
        "1.0"
       ]
      },
      {
       "output_type": "stream",
       "stream": "stdout",
       "text": [
        "\n",
        "1.0\n",
        "1.0"
       ]
      },
      {
       "output_type": "stream",
       "stream": "stdout",
       "text": [
        "\n",
        "1.0\n",
        "1.0"
       ]
      },
      {
       "output_type": "stream",
       "stream": "stdout",
       "text": [
        "\n",
        "1.0\n",
        "1.0"
       ]
      },
      {
       "output_type": "stream",
       "stream": "stdout",
       "text": [
        "\n",
        "1.0\n",
        "1.0"
       ]
      },
      {
       "output_type": "stream",
       "stream": "stdout",
       "text": [
        "\n",
        "1.0"
       ]
      },
      {
       "output_type": "stream",
       "stream": "stdout",
       "text": [
        "\n",
        "0.975\n",
        "1.0"
       ]
      },
      {
       "output_type": "stream",
       "stream": "stdout",
       "text": [
        "\n",
        "1.0\n",
        "1.0"
       ]
      },
      {
       "output_type": "stream",
       "stream": "stdout",
       "text": [
        "\n",
        "1.0"
       ]
      },
      {
       "output_type": "stream",
       "stream": "stdout",
       "text": [
        "\n",
        "1.0"
       ]
      },
      {
       "output_type": "stream",
       "stream": "stdout",
       "text": [
        "\n",
        "1.0\n",
        "1.0"
       ]
      },
      {
       "output_type": "stream",
       "stream": "stdout",
       "text": [
        "\n",
        "1.0\n",
        "1.0"
       ]
      },
      {
       "output_type": "stream",
       "stream": "stdout",
       "text": [
        "\n",
        "1.0"
       ]
      },
      {
       "output_type": "stream",
       "stream": "stdout",
       "text": [
        "\n",
        "1.0"
       ]
      },
      {
       "output_type": "stream",
       "stream": "stdout",
       "text": [
        "\n",
        "1.0"
       ]
      },
      {
       "output_type": "stream",
       "stream": "stdout",
       "text": [
        "\n",
        "1.0"
       ]
      },
      {
       "output_type": "stream",
       "stream": "stdout",
       "text": [
        "\n",
        "1.0\n",
        "1.0"
       ]
      },
      {
       "output_type": "stream",
       "stream": "stdout",
       "text": [
        "\n",
        "1.0\n",
        "1.0"
       ]
      },
      {
       "output_type": "stream",
       "stream": "stdout",
       "text": [
        "\n",
        "1.0\n",
        "1.0"
       ]
      },
      {
       "output_type": "stream",
       "stream": "stdout",
       "text": [
        "\n",
        "1.0"
       ]
      },
      {
       "output_type": "stream",
       "stream": "stdout",
       "text": [
        "\n",
        "1.0\n",
        "1.0"
       ]
      },
      {
       "output_type": "stream",
       "stream": "stdout",
       "text": [
        "\n",
        "1.0\n",
        "1.0"
       ]
      },
      {
       "output_type": "stream",
       "stream": "stdout",
       "text": [
        "\n",
        "1.0\n",
        "1.0"
       ]
      },
      {
       "output_type": "stream",
       "stream": "stdout",
       "text": [
        "\n",
        "-----------------------\n",
        "Final accuracy: 0.999500\n"
       ]
      }
     ],
     "prompt_number": 4
    },
    {
     "cell_type": "code",
     "collapsed": false,
     "input": [
      "with open( \"svm_\" + svm_variable + \"_vector\", \"wb\" ) as f:\n",
      "    for value in classifier[ 0 ]:\n",
      "        f.write( str( value ) + \"\\n\" )"
     ],
     "language": "python",
     "metadata": {},
     "outputs": [],
     "prompt_number": 5
    },
    {
     "cell_type": "code",
     "collapsed": false,
     "input": [],
     "language": "python",
     "metadata": {},
     "outputs": []
    }
   ],
   "metadata": {}
  }
 ]
}