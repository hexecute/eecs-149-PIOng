{
 "metadata": {
  "name": "",
  "signature": "sha256:54145346b36c20ab8fcf48835b7eabd6dac71d9b2aae4863bb43d0f63a088630"
 },
 "nbformat": 3,
 "nbformat_minor": 0,
 "worksheets": [
  {
   "cells": [
    {
     "cell_type": "code",
     "collapsed": false,
     "input": [
      "import csv, itertools, pickle\n",
      "import numpy as np, matplotlib.pyplot as plt"
     ],
     "language": "python",
     "metadata": {},
     "outputs": [],
     "prompt_number": 24
    },
    {
     "cell_type": "code",
     "collapsed": false,
     "input": [
      "base_name = \"../data_svm/\"\n",
      "processing_dir = \"./\"\n",
      "list_of_stroke_types = list( itertools.product( [ \"forehand\", \"backhand\" ],\n",
      "                                                [ \"drive\", \"chop\" ] ) )\n",
      "timestamp = 0\n",
      "parameters = 7\n",
      "parameter_list = [ \"Time\", \"Acceleration X\", \"Acceleration Y\", \"Acceleration Z\",\n",
      "                   \"Angular Velocity X\", \"Angular Velocity Y\", \"Angulr Velocity Z\",\n",
      "                   \"Magnet X\", \"Magnet Y\", \"Magnet Z\" ]\n",
      "\n",
      "for stroke_type_tuple in list_of_stroke_types:\n",
      "    stroke_type = \" \".join( stroke_type_tuple )\n",
      "    trace_file = base_name + stroke_type + \"/Trace.txt\"\n",
      "    strokes_file = base_name + stroke_type + \"/Labels.txt\"\n",
      "    stroke_data = np.ndarray( shape=( 10, 200, parameters ) )\n",
      "    stroke_data.fill( None )\n",
      "    stroke_endtimes = np.ndarray( 10 )\n",
      "    \n",
      "    with open( strokes_file, \"rb\" ) as strokes:\n",
      "        with open( trace_file, \"rb\" ) as f:\n",
      "            stroke_number = 0\n",
      "            i = 0\n",
      "            stroke_row = strokes.next()\n",
      "            stroke_end = float( stroke_row[ : -1 ].split( \":\" )[ 1 ] )\n",
      "            for each_trace_row in f:\n",
      "                row_array = each_trace_row[ : -1 ].split( \",\" )\n",
      "                last_timestamp = timestamp\n",
      "                timestamp = float( row_array[ 0 ] )\n",
      "                stroke_data[ stroke_number, i, : ] = row_array[ : parameters ]\n",
      "                # Move onto the next stroke\n",
      "                if ( timestamp >= stroke_end and stroke_number < 9 ):\n",
      "                    stroke_endtimes[ stroke_number ] = last_timestamp\n",
      "                    stroke_row = strokes.next()\n",
      "                    stroke_end = float( stroke_row[ : -1 ].split( \":\" )[ 1 ] )\n",
      "                    stroke_number += 1\n",
      "                    i = -1\n",
      "                elif ( timestamp >= stroke_end ):\n",
      "                    stroke_endtimes[ stroke_number ] = last_timestamp\n",
      "                    break;\n",
      "                i += 1\n",
      "    \n",
      "    # Create and save a graph of the stroke type data\n",
      "    for parameter in range( 1, parameters ):\n",
      "        plt.subplot( 2, 3, parameter )\n",
      "        plt.tick_params( axis=\"x\", labelsize=10 )\n",
      "        # plt.tick_params( axis=\"y\", labelsize=8 )\n",
      "        plt.plot( np.transpose( stroke_data[ :, :, parameter ] ) )\n",
      "        plt.title( parameter_list[ parameter ] )\n",
      "    plt.suptitle( \"%s Stroke Data by 6 Sensor Parameters\" % stroke_type.title() )\n",
      "    # plt.show()\n",
      "    plt.savefig( processing_dir + stroke_type + \"_reduced.png\" )\n",
      "    plt.clf()\n",
      "    \n",
      "    # Save the stroke type data\n",
      "    pickle.dump( stroke_data, open( processing_dir + stroke_type + \".p\", \"wb\" ) )\n",
      "    # pickle.dump( stroke_endtimes, open( processing_dir + stroke_type + \"_endtimes.p\", \"wb\" ) )"
     ],
     "language": "python",
     "metadata": {},
     "outputs": [],
     "prompt_number": 28
    },
    {
     "cell_type": "code",
     "collapsed": false,
     "input": [],
     "language": "python",
     "metadata": {},
     "outputs": [],
     "prompt_number": 6
    },
    {
     "cell_type": "code",
     "collapsed": false,
     "input": [],
     "language": "python",
     "metadata": {},
     "outputs": []
    }
   ],
   "metadata": {}
  }
 ]
}