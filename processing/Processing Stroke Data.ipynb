{
 "metadata": {
  "name": "",
  "signature": "sha256:2d1e578b9a40ae8bdf213863d895e0b8ed058b7ca83c0dc20b38440665faffce"
 },
 "nbformat": 3,
 "nbformat_minor": 0,
 "worksheets": [
  {
   "cells": [
    {
     "cell_type": "code",
     "collapsed": false,
     "input": [
      "import csv, itertools, pickle\n",
      "import numpy as np, matplotlib.pyplot as plt"
     ],
     "language": "python",
     "metadata": {},
     "outputs": [],
     "prompt_number": 24
    },
    {
     "cell_type": "code",
     "collapsed": false,
     "input": [
      "base_name = \"../data_svm/\"\n",
      "processing_dir = \"./\"\n",
      "list_of_stroke_types = list( itertools.product( [ \"forehand\", \"backhand\" ],\n",
      "                                                [ \"drive\", \"chop\" ] ) )\n",
      "timestamp = 0\n",
      "parameters = 7\n",
      "parameter_list = [ \"Time\", \"Acceleration X\", \"Acceleration Y\", \"Acceleration Z\",\n",
      "                   \"Angular Velocity X\", \"Angular Velocity Y\", \"Angular Velocity Z\",\n",
      "                   \"Magnet X\", \"Magnet Y\", \"Magnet Z\" ]\n",
      "\n",
      "for stroke_type_tuple in list_of_stroke_types:\n",
      "    stroke_type = \" \".join( stroke_type_tuple )\n",
      "    trace_file = base_name + stroke_type + \"/Trace.txt\"\n",
      "    strokes_file = base_name + stroke_type + \"/Labels.txt\"\n",
      "    stroke_data = np.ndarray( shape=( 10, 200, parameters ) )\n",
      "    stroke_data.fill( None )\n",
      "    stroke_endtimes = np.ndarray( 10 )\n",
      "    \n",
      "    with open( strokes_file, \"rb\" ) as strokes:\n",
      "        with open( trace_file, \"rb\" ) as f:\n",
      "            stroke_number = 0\n",
      "            i = 0\n",
      "            stroke_row = strokes.next()\n",
      "            stroke_end = float( stroke_row[ : -1 ].split( \":\" )[ 1 ] )\n",
      "            for each_trace_row in f:\n",
      "                row_array = each_trace_row[ : -1 ].split( \",\" )\n",
      "                last_timestamp = timestamp\n",
      "                timestamp = float( row_array[ 0 ] )\n",
      "                stroke_data[ stroke_number, i, : ] = row_array[ : parameters ]\n",
      "                # Move onto the next stroke\n",
      "                if ( timestamp >= stroke_end and stroke_number < 9 ):\n",
      "                    stroke_endtimes[ stroke_number ] = last_timestamp\n",
      "                    stroke_row = strokes.next()\n",
      "                    stroke_end = float( stroke_row[ : -1 ].split( \":\" )[ 1 ] )\n",
      "                    stroke_number += 1\n",
      "                    i = -1\n",
      "                elif ( timestamp >= stroke_end ):\n",
      "                    stroke_endtimes[ stroke_number ] = last_timestamp\n",
      "                    break;\n",
      "                i += 1\n",
      "    \n",
      "    # Create and save a graph of the stroke type data\n",
      "    for parameter in range( 1, parameters ):\n",
      "        plt.subplot( 2, 3, parameter )\n",
      "        plt.tick_params( axis=\"x\", labelsize=10 )\n",
      "        # plt.tick_params( axis=\"y\", labelsize=8 )\n",
      "        plt.plot( np.nanmean( np.transpose( stroke_data[ :, :, parameter ] ), 1 ) )\n",
      "        plt.title( parameter_list[ parameter ] )\n",
      "    plt.suptitle( \"%s Stroke Data by 6 Sensor Parameters\" % stroke_type.title() )\n",
      "    # plt.show()\n",
      "    plt.savefig( processing_dir + stroke_type + \"_reduced_mean.png\" )\n",
      "    plt.clf()\n",
      "    \n",
      "    # Save the stroke type data\n",
      "    pickle.dump( stroke_data, open( processing_dir + stroke_type + \".p\", \"wb\" ) )\n",
      "    # pickle.dump( stroke_endtimes, open( processing_dir + stroke_type + \"_endtimes.p\", \"wb\" ) )"
     ],
     "language": "python",
     "metadata": {},
     "outputs": [],
     "prompt_number": 31
    },
    {
     "cell_type": "code",
     "collapsed": false,
     "input": [
      "list_of_all_strokes = []\n",
      "list_of_all_stroke_types = [ \"backhand chop\", \"forehand drive\", \"backhand drive\", \"forehand chop\" ]\n",
      "for i in range( len( list_of_all_stroke_types) ):\n",
      "    stroke_type = list_of_all_stroke_types[ i ]\n",
      "    list_of_all_strokes.append( pickle.load( open( processing_dir + stroke_type + \".p\", \"rb\" ) ) )"
     ],
     "language": "python",
     "metadata": {},
     "outputs": [],
     "prompt_number": 63
    },
    {
     "cell_type": "code",
     "collapsed": false,
     "input": [
      "# Create and save a graph of the stroke type data\n",
      "for parameter in range( 1, parameters ):\n",
      "    for stroke_i in range( 4 ):\n",
      "        plt.subplot( 2, 2, stroke_i )\n",
      "        plt.plot( np.transpose( list_of_all_strokes[ stroke_i ][ :, :, parameter ] ) )\n",
      "        plt.title( list_of_all_stroke_types[ stroke_i ].title() )\n",
      "    plt.suptitle( \"%s Parameter Data by 4 Strokes\" % parameter_list[ parameter ].title() )\n",
      "    plt.savefig( parameter_list[ parameter ] + \".png\" )\n",
      "    plt.clf()"
     ],
     "language": "python",
     "metadata": {},
     "outputs": [],
     "prompt_number": 64
    },
    {
     "cell_type": "code",
     "collapsed": false,
     "input": [],
     "language": "python",
     "metadata": {},
     "outputs": [
      {
       "metadata": {},
       "output_type": "pyout",
       "prompt_number": 47,
       "text": [
        "array([[  8.00000000e-02,  -9.00000000e-01,  -2.04000000e+00, ...,\n",
        "                     nan,              nan,              nan],\n",
        "       [  4.58000000e+00,   3.59000000e+00,   3.66000000e+00, ...,\n",
        "                     nan,              nan,              nan],\n",
        "       [  8.71000000e+00,   6.55000000e+00,   4.00000000e-02, ...,\n",
        "                     nan,              nan,              nan],\n",
        "       ..., \n",
        "       [ -4.00300000e+01,  -2.95100000e+01,  -1.11200000e+01, ...,\n",
        "                     nan,              nan,              nan],\n",
        "       [ -6.84000000e+00,  -1.38300000e+01,  -2.42100000e+01, ...,\n",
        "                     nan,              nan,              nan],\n",
        "       [  4.18600000e+01,   3.67000000e+01,   3.07400000e+01, ...,\n",
        "                     nan,              nan,              nan]])"
       ]
      }
     ],
     "prompt_number": 47
    },
    {
     "cell_type": "code",
     "collapsed": false,
     "input": [],
     "language": "python",
     "metadata": {},
     "outputs": []
    }
   ],
   "metadata": {}
  }
 ]
}